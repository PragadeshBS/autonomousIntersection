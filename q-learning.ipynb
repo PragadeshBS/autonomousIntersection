{
  "cells": [
    {
      "cell_type": "code",
      "execution_count": 49,
      "metadata": {
        "id": "6r149p-OBq7x"
      },
      "outputs": [],
      "source": [
        "class Point:\n",
        "    def __init__(self, x, y):\n",
        "        self.x = x\n",
        "        self.y = y\n",
        "\n",
        "    def is_close(self, other, tolerance):\n",
        "        return abs(self.x - other.x) < tolerance and abs(self.y - other.y) < tolerance"
      ]
    },
    {
      "cell_type": "code",
      "execution_count": 50,
      "metadata": {
        "id": "B2YQBZFjBq72"
      },
      "outputs": [],
      "source": [
        "class Edge:\n",
        "    def __init__(self, p1, p2, x_speed=0, y_speed=0):\n",
        "        self.p1 = p1\n",
        "        self.p2 = p2\n",
        "        self.x_speed = x_speed\n",
        "        self.y_speed = y_speed\n",
        "\n",
        "    def is_point_on_edge(self, point):\n",
        "        return point.x >= min(self.p1.x, self.p2.x) and point.x <= max(self.p1.x, self.p2.x) and point.y >= min(self.p1.y, self.p2.y) and point.y <= max(self.p1.y, self.p2.y)"
      ]
    },
    {
      "cell_type": "code",
      "execution_count": 51,
      "metadata": {
        "id": "hjhhGOTuBq72"
      },
      "outputs": [],
      "source": [
        "class Car:\n",
        "    def __init__(self, name, position, destination, speed = 1):\n",
        "        self.name = name\n",
        "        self.position = position\n",
        "        self.visited_intersection = False\n",
        "        self.destination = destination\n",
        "        self.speed = speed\n",
        "\n",
        "    def move(self, x, y):\n",
        "        self.position.x += x\n",
        "        self.position.y += y\n",
        "\n",
        "    def is_at_intersection(self):\n",
        "        if (self.position.x == 0 and self.position.y > -1 and self.position.y < 1) \\\n",
        "            or (self.position.y == 0 and self.position.x > -1 and self.position.x < 1):\n",
        "            if not self.visited_intersection:\n",
        "                self.visited_intersection = True\n",
        "                if self.destination == 'E':\n",
        "                    self.position.x = 1\n",
        "                    self.position.y = 0\n",
        "                elif self.destination == 'S':\n",
        "                    self.position.x = 1\n",
        "                    self.position.y = -1\n",
        "            return True\n",
        "        return False\n",
        "\n",
        "    def distance_to_intersection(self):\n",
        "        return abs(self.position.x) + abs(self.position.y)"
      ]
    },
    {
      "cell_type": "code",
      "execution_count": 52,
      "metadata": {
        "id": "GNwq46CDBq73"
      },
      "outputs": [],
      "source": [
        "import pandas as pd\n",
        "\n",
        "class Controller:\n",
        "    def __init__(self, cars, edges, speed_reduction_factor=0.5):\n",
        "        self.cars = cars\n",
        "        self.edges = edges\n",
        "        self.time = 0\n",
        "        self.intersection_block_times = {}\n",
        "        self.speed_reduction_factor = speed_reduction_factor\n",
        "        self.edges_with_reduced_speed = []\n",
        "        self.log_content = []\n",
        "        self.car_positions = {}\n",
        "        # print(\"initialized with srf\", speed_reduction_factor)\n",
        "\n",
        "    def check_for_collision(self):\n",
        "        for car1 in self.cars:\n",
        "            for car2 in self.cars:\n",
        "                if car1.name == car2.name:\n",
        "                    continue\n",
        "                if car1.position.is_close(car2.position, 0.5):\n",
        "                    # print(f\"Collision detected between {car1.name} and {car2.name}\")\n",
        "                    return True\n",
        "\n",
        "    def predict_collision_at_intersection(self, car):\n",
        "        car_edge = self.get_edge(car)\n",
        "        # print(car_edge.x_speed, car_edge.y_speed)\n",
        "        time_to_intersection = self.time + (abs(car.position.x) + abs(car.position.y) ) / max(abs(car_edge.x_speed), abs(car_edge.y_speed))\n",
        "        # print(car.name, \"tti\", time_to_intersection, self.speed_reduction_factor)\n",
        "        for car_name in self.intersection_block_times:\n",
        "            if car_name == car.name:\n",
        "                continue\n",
        "            intersection_block_time = self.intersection_block_times[car_name]\n",
        "            if intersection_block_time[0] <= time_to_intersection <= intersection_block_time[1]:\n",
        "                # print(f\"Car {car.name} travelling at speed {car_edge.x_speed + car_edge.y_speed} is blocked by car {car_name} from time {intersection_block_time[0]} to {intersection_block_time[1]}\")\n",
        "                return True\n",
        "        if not self.intersection_block_times.get(car.name):\n",
        "            self.intersection_block_times[car.name] = [time_to_intersection, time_to_intersection + 5]\n",
        "            # print(f\"intersection reserved for {car.name} from {time_to_intersection} to {time_to_intersection+2}\")\n",
        "        return False\n",
        "\n",
        "    def move_car(self, car):\n",
        "        car_edge = self.get_edge(car)\n",
        "        car.move(car_edge.x_speed, car_edge.y_speed)\n",
        "        if self.predict_collision_at_intersection(car):\n",
        "            # print(f\"Possible collision at intersection for car {car.name}\")\n",
        "            if car_edge in self.edges_with_reduced_speed:\n",
        "              return self.check_for_collision()\n",
        "            self.edges_with_reduced_speed.append(car_edge)\n",
        "            car_edge.x_speed = car_edge.x_speed - self.speed_reduction_factor if car_edge.x_speed > 0 else car_edge.x_speed\n",
        "            car_edge.y_speed = car_edge.y_speed - self.speed_reduction_factor if car_edge.y_speed > 0 else car_edge.y_speed\n",
        "            # print(\"new speeds for\", car.name, car_edge.x_speed, car_edge.y_speed, \"after reducing by\", self.speed_reduction_factor)\n",
        "            if self.predict_collision_at_intersection(car):\n",
        "              return True\n",
        "        return self.check_for_collision()\n",
        "\n",
        "\n",
        "    def get_edge(self, car):\n",
        "        for edge in self.edges:\n",
        "            if edge.is_point_on_edge(car.position):\n",
        "                return edge\n",
        "        raise Exception(f\"Car {car.name} is not on any edge while at ({car.position.x}, {car.position.y})\")\n",
        "\n",
        "    def print_status(self, car):\n",
        "      car_edge = self.get_edge(car)\n",
        "      self.log_content.append(f\"car {car.name} is at {car.position.x}, {car.position.y} with speed {car_edge.x_speed}, {car_edge.y_speed}\")\n",
        "      if not self.car_positions.get(car.name):\n",
        "          self.car_positions[car.name] = []\n",
        "      self.car_positions[car.name].append(f'({car.position.x}, {car.position.y})')\n",
        "\n",
        "    def pad_position_arrays(self):\n",
        "        if len(self.car_positions['A']) != len(self.car_positions['B']):\n",
        "            if len(self.car_positions['A']) > len(self.car_positions['B']):\n",
        "                self.car_positions['B'].extend([self.car_positions['B'][-1]] * (len(self.car_positions['A']) - len(self.car_positions['B'])))\n",
        "            else:\n",
        "                self.car_positions['A'].extend([self.car_positions['A'][-1]] * (len(self.car_positions['B']) - len(self.car_positions['A'])))\n",
        "                \n",
        "    def write_log(self, filename):\n",
        "        with open(filename, \"w\") as f:\n",
        "            for line in self.log_content:\n",
        "                f.write(line + \"\\n\")\n",
        "        print(\"Log written to\", filename)\n",
        "        self.pad_position_arrays()\n",
        "        df = pd.DataFrame(self.car_positions)\n",
        "        df.columns = ['SE_CAR_A', 'WS_CAR_B']\n",
        "        df.to_excel(\"simulation/data/car_positions.xlsx\", index=False)\n",
        "\n",
        "    def simulate(self):\n",
        "        while True:\n",
        "            if len(self.cars) == 0:\n",
        "                # print(\"All cars have left the intersection\")\n",
        "                break\n",
        "            for car in self.cars:\n",
        "                self.print_status(car)\n",
        "                if self.move_car(car):\n",
        "                    return -1\n",
        "                car.is_at_intersection()\n",
        "                if car.visited_intersection and car.distance_to_intersection() > 10:\n",
        "                    self.cars.remove(car)\n",
        "                    # print(f\"{car.name} has left the intersection\")\n",
        "                    if len(self.cars) == 0:\n",
        "                        # print(\"All cars have left the intersection\")\n",
        "                        return self.time\n",
        "            self.time += 0.1\n",
        "            # print(\"Time: \", self.time)"
      ]
    },
    {
      "cell_type": "code",
      "execution_count": 53,
      "metadata": {
        "id": "dTc5PSEUBq75"
      },
      "outputs": [],
      "source": [
        "# edges = [\n",
        "#     # south to north road with two edges\n",
        "#     Edge(Point(0, -50), Point(0, -40), 0, 1),\n",
        "#     Edge(Point(0, -40), Point(0, 0), 0, 1),\n",
        "#     Edge(Point(0, 0), Point(0, 40), 0, 1),\n",
        "\n",
        "#     # west to east road with two edges\n",
        "#     Edge(Point(-50, 0), Point(-40, 0), 1, 0),\n",
        "#     Edge(Point(-40, 0), Point(0, 0), 1, 0),\n",
        "#     Edge(Point(0, 0), Point(40, 0), 1, 0),\n",
        "# ]\n",
        "\n",
        "# edges = [\n",
        "#     # south to north road with two edges\n",
        "#     Edge(Point(0, -50), Point(0, 40), 0, 1),\n",
        "\n",
        "#     # west to east road with two edges\n",
        "#     Edge(Point(-50, 0), Point(40, 0), 1, 0),\n",
        "# ]\n",
        "\n",
        "# cars = [\n",
        "#     Car(\"A\", Point(0, -50)),\n",
        "#     Car(\"B\", Point(-50, 0)),\n",
        "# ]"
      ]
    },
    {
      "cell_type": "code",
      "execution_count": 54,
      "metadata": {
        "id": "P68k35YiDjWO"
      },
      "outputs": [],
      "source": [
        "import numpy as np\n",
        "\n",
        "class QLearningController(Controller):\n",
        "    def __init__(self, cars, edges, alpha=0.1, gamma=0.6, epsilon=0.1):\n",
        "        super().__init__(cars, edges)\n",
        "        self.q_table = np.zeros((101, 101))  # Q-table for speed_reduction_factor values from 0 to 1\n",
        "        self.alpha = alpha  # Learning rate\n",
        "        self.gamma = gamma  # Discount factor\n",
        "        self.epsilon = epsilon  # Exploration rate\n",
        "\n",
        "    def simulate(self):\n",
        "      self.update_q_table()\n",
        "\n",
        "    def update_q_table(self):\n",
        "      for i in range(101):\n",
        "          reward = self.simulate_with_speed_reduction(i/100)\n",
        "          for j in range(101):\n",
        "              # print(\"reward\", reward, \"for\", i/100)\n",
        "              next_max = np.max(self.q_table[i])\n",
        "              self.q_table[i, j] = (1 - self.alpha) * self.q_table[i, j] + self.alpha * (reward + self.gamma * next_max)\n",
        "\n",
        "\n",
        "    def simulate_with_speed_reduction(self, speed_reduction_factor):\n",
        "      if speed_reduction_factor == 1:\n",
        "        return -1000\n",
        "      controller_copy = self.copy_controller(speed_reduction_factor)\n",
        "      controller_copy.speed_reduction_factor = speed_reduction_factor\n",
        "      total_time_taken = controller_copy.simulate()\n",
        "      if total_time_taken == -1:\n",
        "          return -1000  # Penalize collision heavily\n",
        "      return -total_time_taken  # Negative total time taken to minimize delay\n",
        "\n",
        "    def copy_controller(self, speed_reduction_factor):\n",
        "        cars_copy = [Car(car.name, Point(car.position.x, car.position.y), car.destination) for car in self.cars]\n",
        "        edges_copy = [Edge(edge.p1, edge.p2, edge.x_speed, edge.y_speed) for edge in self.edges]\n",
        "        return Controller(cars_copy, edges_copy, speed_reduction_factor)\n",
        "\n",
        "# Example usage\n",
        "edges = [\n",
        "    Edge(Point(0, -50), Point(0, 40), 0, 1),  # South to north road\n",
        "    Edge(Point(-50, 0), Point(40, 0), 1, 0),  # West to east road\n",
        "    Edge(Point(1, -50), Point(1, 40), 0, -1),  # North to south road\n",
        "    Edge(Point(-50, 1), Point(40, 1), 1, 0),  # East to west road\n",
        "]\n",
        "cars = [\n",
        "    Car(\"A\", Point(0, -50), 'E'),\n",
        "    Car(\"B\", Point(-50, 0), 'S'),\n",
        "]\n",
        "controller = QLearningController(cars, edges)\n",
        "total_time_taken = controller.simulate()\n",
        "q_table = controller.q_table"
      ]
    },
    {
      "cell_type": "code",
      "execution_count": 55,
      "metadata": {
        "colab": {
          "base_uri": "https://localhost:8080/"
        },
        "id": "U6vxx6olV0VF",
        "outputId": "7623f57b-6595-4c40-bf58-f624b4f4987c"
      },
      "outputs": [
        {
          "name": "stdout",
          "output_type": "stream",
          "text": [
            "most optimal edge weight 0.9\n"
          ]
        }
      ],
      "source": [
        "max_q_values = []\n",
        "for i in range(101):\n",
        "  # print(i/100, \",\", max(q_table[i]))\n",
        "  max_q_values.append(max(q_table[i]))\n",
        "most_optimal_srf = np.argmax(max_q_values)/100\n",
        "print(\"most optimal edge weight\", 1-most_optimal_srf)"
      ]
    },
    {
      "cell_type": "code",
      "execution_count": 56,
      "metadata": {
        "colab": {
          "base_uri": "https://localhost:8080/"
        },
        "id": "A6WAhESMfivE",
        "outputId": "db9d7426-dac3-410b-fc80-ad3dfba5d7f9"
      },
      "outputs": [
        {
          "name": "stdout",
          "output_type": "stream",
          "text": [
            "Log written to logs/positions.log\n"
          ]
        },
        {
          "data": {
            "text/plain": [
              "6.399999999999993"
            ]
          },
          "execution_count": 56,
          "metadata": {},
          "output_type": "execute_result"
        }
      ],
      "source": [
        "optimal_controller = Controller(cars, edges, most_optimal_srf)\n",
        "delay = optimal_controller.simulate()\n",
        "optimal_controller.write_log(\"logs/positions.log\")\n",
        "delay"
      ]
    }
  ],
  "metadata": {
    "colab": {
      "provenance": []
    },
    "kernelspec": {
      "display_name": ".venv",
      "language": "python",
      "name": "python3"
    },
    "language_info": {
      "codemirror_mode": {
        "name": "ipython",
        "version": 3
      },
      "file_extension": ".py",
      "mimetype": "text/x-python",
      "name": "python",
      "nbconvert_exporter": "python",
      "pygments_lexer": "ipython3",
      "version": "3.7.9"
    }
  },
  "nbformat": 4,
  "nbformat_minor": 0
}
