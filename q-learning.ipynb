{
 "cells": [
  {
   "cell_type": "code",
   "execution_count": 1,
   "metadata": {},
   "outputs": [
    {
     "name": "stdout",
     "output_type": "stream",
     "text": [
      "hello world\n"
     ]
    }
   ],
   "source": [
    "print('hello world')"
   ]
  },
  {
   "cell_type": "code",
   "execution_count": 2,
   "metadata": {},
   "outputs": [],
   "source": [
    "class Car:\n",
    "    def __init__(self, name, speed, distance, time):\n",
    "        self.name = name\n",
    "        self.speed = speed\n",
    "        self.distance = distance\n",
    "        self.time = time\n",
    "        self.rank=-10\n",
    "    \n",
    "    def move(self):\n",
    "        print('The car is moving at', self.speed, 'km/h')\n",
    "    \n",
    "    def stop(self):\n",
    "        print('The car has stopped')\n",
    "    \n",
    "    def detail(self):\n",
    "        print('The car is a', self.name, 'and is moving at', self.speed, 'km/h')"
   ]
  },
  {
   "cell_type": "code",
   "execution_count": 3,
   "metadata": {},
   "outputs": [
    {
     "name": "stdout",
     "output_type": "stream",
     "text": [
      "The car is a BMW and is moving at 10 km/h\n",
      "The car is a Audi and is moving at 8.300000000000006 km/h\n",
      "The car is a Benz and is moving at 7.10000000000001 km/h\n",
      "None None None\n"
     ]
    }
   ],
   "source": [
    "car1=Car('BMW', 10, 100, 10)\n",
    "car2=Car('Audi', 10, 100, 10)\n",
    "car3=Car('Benz', 10, 100, 10)\n",
    "\n",
    "cars=[car1, car2, car3]\n",
    "\n",
    "timeout=2\n",
    "speed_rate=0.1\n",
    "\n",
    "for i in range(len(cars)-1):\n",
    "    car_A=cars[i]\n",
    "    car_B=cars[i+1]\n",
    "    car_B.speed=car_A.speed\n",
    "    while(car_B.time-car_A.time<=timeout):\n",
    "        car_B.speed=car_B.speed-speed_rate\n",
    "        car_B.time=car_B.distance/car_B.speed\n",
    "\n",
    "print(car1.detail(), car2.detail(), car3.detail())"
   ]
  },
  {
   "cell_type": "code",
   "execution_count": 9,
   "metadata": {},
   "outputs": [
    {
     "name": "stdout",
     "output_type": "stream",
     "text": [
      "Final speeds after collision avoidance:\n",
      "The car BMW is moving at 10 km/h\n",
      "The car Audi is moving at 8.300000000000006 km/h\n",
      "The car Benz is moving at 7.10000000000001 km/h\n",
      "The car Benz is moving at 6.2000000000000135 km/h\n"
     ]
    }
   ],
   "source": [
    "import numpy as np\n",
    "\n",
    "class Car:\n",
    "    def __init__(self, name, speed, distance, time):\n",
    "        self.name = name\n",
    "        self.speed = speed\n",
    "        self.distance = distance\n",
    "        self.time = time\n",
    "        self.rank = -10\n",
    "    \n",
    "    def move(self):\n",
    "        print('The car', self.name, 'is moving at', self.speed, 'km/h')\n",
    "    \n",
    "    def stop(self):\n",
    "        print('The car', self.name, 'has stopped')\n",
    "    \n",
    "    def detail(self):\n",
    "        print('The car', self.name, 'is moving at', self.speed, 'km/h')\n",
    "\n",
    "\n",
    "class QLearningAgent:\n",
    "    def __init__(self, num_actions, learning_rate=0.1, discount_factor=0.9, exploration_rate=0.1):\n",
    "        self.learning_rate = learning_rate\n",
    "        self.discount_factor = discount_factor\n",
    "        self.exploration_rate = exploration_rate\n",
    "        self.num_actions = num_actions\n",
    "        self.q_values = {}\n",
    "\n",
    "    def get_q_value(self, state, action):\n",
    "        if (state, action) not in self.q_values:\n",
    "            self.q_values[(state, action)] = 0\n",
    "        return self.q_values[(state, action)]\n",
    "\n",
    "    def choose_action(self, state):\n",
    "        if np.random.uniform(0, 1) < self.exploration_rate:\n",
    "            return np.random.choice(self.num_actions)\n",
    "        else:\n",
    "            q_values = [self.get_q_value(state, action) for action in range(self.num_actions)]\n",
    "            return np.argmax(q_values)\n",
    "\n",
    "    def update_q_value(self, state, action, reward, next_state):\n",
    "        best_next_action = max(range(self.num_actions), key=lambda next_action: self.get_q_value(next_state, next_action))\n",
    "        td_target = reward + self.discount_factor * self.get_q_value(next_state, best_next_action)\n",
    "        td_error = td_target - self.get_q_value(state, action)\n",
    "        self.q_values[(state, action)] += self.learning_rate * td_error\n",
    "\n",
    "\n",
    "def simulate_environment(cars, agent, timeout, speed_rate):\n",
    "    for i in range(len(cars) - 1):\n",
    "        car_A = cars[i]\n",
    "        car_B = cars[i + 1]\n",
    "        car_B.speed = car_A.speed\n",
    "        while (car_B.time - car_A.time <= timeout):\n",
    "            state = (car_B.distance, car_B.speed, car_B.time)\n",
    "            action = agent.choose_action(state)\n",
    "            if action == 0:  # Decelerate\n",
    "                car_B.speed -= speed_rate\n",
    "            car_B.time = car_B.distance / car_B.speed\n",
    "            next_state = (car_B.distance, car_B.speed, car_B.time)\n",
    "            reward = -1 if action == 0 else 0  # Penalize deceleration\n",
    "            agent.update_q_value(state, action, reward, next_state)\n",
    "\n",
    "\n",
    "car1 = Car('BMW', 10, 100, 10)\n",
    "car2 = Car('Audi', 10, 100, 10)\n",
    "car3 = Car('Benz', 10, 100, 10)\n",
    "car4 = Car('Benz', 10, 100, 10)\n",
    "\n",
    "cars = [car1, car2, car3, car4]\n",
    "\n",
    "timeout = 2\n",
    "speed_rate = 0.1\n",
    "\n",
    "agent = QLearningAgent(num_actions=2)  # 2 actions: 0 for decelerate, 1 for maintain speed\n",
    "\n",
    "simulate_environment(cars, agent, timeout, speed_rate)\n",
    "\n",
    "print(\"Final speeds after collision avoidance:\")\n",
    "for car in cars:\n",
    "    car.detail()\n"
   ]
  },
  {
   "cell_type": "code",
   "execution_count": null,
   "metadata": {},
   "outputs": [],
   "source": []
  }
 ],
 "metadata": {
  "kernelspec": {
   "display_name": "Python 3",
   "language": "python",
   "name": "python3"
  },
  "language_info": {
   "codemirror_mode": {
    "name": "ipython",
    "version": 3
   },
   "file_extension": ".py",
   "mimetype": "text/x-python",
   "name": "python",
   "nbconvert_exporter": "python",
   "pygments_lexer": "ipython3",
   "version": "3.12.2"
  }
 },
 "nbformat": 4,
 "nbformat_minor": 2
}
